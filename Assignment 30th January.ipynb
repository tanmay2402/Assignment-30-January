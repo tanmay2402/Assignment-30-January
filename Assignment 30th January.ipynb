{
 "cells": [
  {
   "cell_type": "code",
   "execution_count": 1,
   "id": "0a661847-0c43-4381-b4e0-e3e39c624739",
   "metadata": {},
   "outputs": [],
   "source": [
    "# ANSWER OF 30TH JANUAASSIGNMENT "
   ]
  },
  {
   "cell_type": "code",
   "execution_count": 2,
   "id": "1905ab77-1a00-4463-91f0-c4cf497db8b9",
   "metadata": {},
   "outputs": [],
   "source": [
    "#1. ANSWER"
   ]
  },
  {
   "cell_type": "code",
   "execution_count": 4,
   "id": "86f6d46e-38aa-441f-b135-da1490e06f3f",
   "metadata": {},
   "outputs": [
    {
     "name": "stdin",
     "output_type": "stream",
     "text": [
      "Enter your marks 83\n"
     ]
    },
    {
     "name": "stdout",
     "output_type": "stream",
     "text": [
      "Your grade is B \n"
     ]
    }
   ],
   "source": [
    "marks = int(input(\"Enter your marks\"))\n",
    "if marks > 90 :\n",
    "    print(\"Your grade is A \")\n",
    "elif marks > 80 and marks <= 90 :\n",
    "    print(\"Your grade is B \")\n",
    "elif marks > 60 and marks <=80 :\n",
    "    print(\"Your grade is C \")\n",
    "else :\n",
    "    print(\"Your grade is D \")"
   ]
  },
  {
   "cell_type": "code",
   "execution_count": 5,
   "id": "e6bf0d08-b4cc-40e5-a603-6ffe45f322b5",
   "metadata": {},
   "outputs": [],
   "source": [
    "#2. ANSWER"
   ]
  },
  {
   "cell_type": "code",
   "execution_count": 6,
   "id": "ab820038-95af-4084-b8ca-fb19414de51a",
   "metadata": {},
   "outputs": [
    {
     "name": "stdin",
     "output_type": "stream",
     "text": [
      "Enter your cost price of your bike 49999\n"
     ]
    },
    {
     "name": "stdout",
     "output_type": "stream",
     "text": [
      "Your tax is 5%\n"
     ]
    }
   ],
   "source": [
    "price = int(input(\"Enter your cost price of your bike\"))\n",
    "if price > 100000 :\n",
    "    print(\"Your tax is 15%\")\n",
    "elif price > 50000 and price <= 100000 :\n",
    "    print(\"Your tax is 10%\")\n",
    "else : \n",
    "    print(\"Your tax is 5%\")"
   ]
  },
  {
   "cell_type": "code",
   "execution_count": 7,
   "id": "4119c35d-8b24-4bca-8349-cace5669db5d",
   "metadata": {},
   "outputs": [],
   "source": [
    "#3. ANSWER"
   ]
  },
  {
   "cell_type": "code",
   "execution_count": 9,
   "id": "8678420e-0c9f-4920-99b8-028c9198ba89",
   "metadata": {},
   "outputs": [
    {
     "name": "stdin",
     "output_type": "stream",
     "text": [
      "Enter your place Delhi\n"
     ]
    },
    {
     "name": "stdout",
     "output_type": "stream",
     "text": [
      "Monument is red fort\n"
     ]
    }
   ],
   "source": [
    "place = input(\"Enter your place\")\n",
    "if place == \"Delhi\" :\n",
    "    print(\"Monument is red fort\")\n",
    "elif place == \"Agra\" :\n",
    "    print(\"Monumet is Taj Mahal\")\n",
    "elif place== \"Jaipur\" :\n",
    "    print(\"Monument is Jal Mahal\")\n",
    "else :\n",
    "    print(\"Wrong inpput\")"
   ]
  },
  {
   "cell_type": "code",
   "execution_count": 10,
   "id": "2ecdd90a-b2fd-47c0-8668-2aac95701522",
   "metadata": {},
   "outputs": [],
   "source": [
    "#4. ANSWER"
   ]
  },
  {
   "cell_type": "code",
   "execution_count": 15,
   "id": "10c054a4-af83-46b6-817d-0f82d05143d2",
   "metadata": {},
   "outputs": [
    {
     "name": "stdin",
     "output_type": "stream",
     "text": [
      "Enter a number 6\n"
     ]
    },
    {
     "name": "stdout",
     "output_type": "stream",
     "text": [
      "6 is divisible by 3\n"
     ]
    }
   ],
   "source": [
    "Number = int(input(\"Enter a number\"))\n",
    "if Number <= 10 :\n",
    "    if Number % 3 == 0 :\n",
    "        print( Number , \"is divisible by 3\")\n",
    "    else :\n",
    "        print(Number, \" is not divisible by 3\")\n",
    "else : \n",
    "    print(Number,\" is greater than 10\")"
   ]
  },
  {
   "cell_type": "code",
   "execution_count": 20,
   "id": "1450ff14-a3c3-4638-8e07-3eafa1cb61d5",
   "metadata": {},
   "outputs": [],
   "source": [
    "#5. ANSWER"
   ]
  },
  {
   "cell_type": "code",
   "execution_count": 23,
   "id": "e578a972-8043-4fc8-8f35-52d4041b316c",
   "metadata": {},
   "outputs": [
    {
     "data": {
      "text/plain": [
       "' In python , while loop is used to run a block of code untill certain condition is met. It is used when a specific times a value is printed which is taken as input from user.'"
      ]
     },
     "execution_count": 23,
     "metadata": {},
     "output_type": "execute_result"
    }
   ],
   "source": [
    "\"\"\" In python , while loop is used to run a block of code untill certain condition is met. It is used when a specific times a value is printed which is taken as input from user.\"\"\""
   ]
  },
  {
   "cell_type": "code",
   "execution_count": 24,
   "id": "11eab49a-d209-4b2d-94e1-aedcf553bb6a",
   "metadata": {},
   "outputs": [
    {
     "name": "stdin",
     "output_type": "stream",
     "text": [
      "Enter a number 5\n"
     ]
    },
    {
     "name": "stdout",
     "output_type": "stream",
     "text": [
      "1\n",
      "2\n",
      "3\n",
      "4\n"
     ]
    }
   ],
   "source": [
    "#EXAMPLE\n",
    "n = int(input(\"Enter a number\"))\n",
    "i = 1 \n",
    "while i < n:\n",
    "    print(i)\n",
    "    i = i+1"
   ]
  },
  {
   "cell_type": "code",
   "execution_count": 25,
   "id": "1f9ed1ff-3425-4263-91c8-ba35216978e8",
   "metadata": {},
   "outputs": [],
   "source": [
    "#6. ANSWER"
   ]
  },
  {
   "cell_type": "code",
   "execution_count": 26,
   "id": "5966596a-144b-4c29-86f7-0dd8be2871bc",
   "metadata": {},
   "outputs": [
    {
     "name": "stdout",
     "output_type": "stream",
     "text": [
      "1 \n",
      "3 3 \n",
      "5 5 5 \n",
      "7 7 7 7 \n",
      "9 9 9 9 9 \n"
     ]
    }
   ],
   "source": [
    "rows = 5\n",
    "i = 1\n",
    "while i <= rows:\n",
    "    j = 1\n",
    "    while j <= i:\n",
    "        print((i * 2 - 1), end=\" \")\n",
    "        j = j + 1\n",
    "    i = i + 1\n",
    "    print('')"
   ]
  },
  {
   "cell_type": "code",
   "execution_count": 27,
   "id": "1c0bd334-b87c-43dc-8a49-1a66eea4ea81",
   "metadata": {},
   "outputs": [],
   "source": [
    "#7. ANSWER"
   ]
  },
  {
   "cell_type": "code",
   "execution_count": 28,
   "id": "65597c0b-c84e-466b-98d1-cbeaad03764e",
   "metadata": {},
   "outputs": [
    {
     "name": "stdout",
     "output_type": "stream",
     "text": [
      "10\n",
      "9\n",
      "8\n",
      "7\n",
      "6\n",
      "5\n",
      "4\n",
      "3\n",
      "2\n",
      "1\n"
     ]
    }
   ],
   "source": [
    "i = 10\n",
    "while i > 0:\n",
    "    print(i)\n",
    "    i = i - 1"
   ]
  },
  {
   "cell_type": "code",
   "execution_count": 29,
   "id": "9a3a318f-063e-482b-9f5b-140dfa8509e2",
   "metadata": {},
   "outputs": [],
   "source": [
    "#8. ANSWER "
   ]
  },
  {
   "cell_type": "code",
   "execution_count": 30,
   "id": "3052662b-17bb-47a4-8a96-696c8a14d49d",
   "metadata": {},
   "outputs": [
    {
     "name": "stdout",
     "output_type": "stream",
     "text": [
      "10\n",
      "9\n",
      "8\n",
      "7\n",
      "6\n",
      "5\n",
      "4\n",
      "3\n",
      "2\n",
      "1\n"
     ]
    }
   ],
   "source": [
    "i = 10\n",
    "while i > 0:\n",
    "    print(i)\n",
    "    i = i - 1"
   ]
  }
 ],
 "metadata": {
  "kernelspec": {
   "display_name": "Python 3 (ipykernel)",
   "language": "python",
   "name": "python3"
  },
  "language_info": {
   "codemirror_mode": {
    "name": "ipython",
    "version": 3
   },
   "file_extension": ".py",
   "mimetype": "text/x-python",
   "name": "python",
   "nbconvert_exporter": "python",
   "pygments_lexer": "ipython3",
   "version": "3.10.8"
  }
 },
 "nbformat": 4,
 "nbformat_minor": 5
}
